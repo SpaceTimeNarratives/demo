{
  "cells": [
    {
      "cell_type": "markdown",
      "metadata": {
        "id": "view-in-github",
        "colab_type": "text"
      },
      "source": [
        "<a href=\"https://colab.research.google.com/github/IgnatiusEzeani/spatial_narratives_workshop/blob/main/Intro_to_Colab_Notebooks.ipynb\" target=\"_parent\"><img src=\"https://colab.research.google.com/assets/colab-badge.svg\" alt=\"Open In Colab\"/></a>"
      ]
    },
    {
      "cell_type": "markdown",
      "metadata": {
        "id": "_BEy2Q4ujNW7"
      },
      "source": [
        "### Introduction to Colab Notebooks"
      ]
    },
    {
      "cell_type": "markdown",
      "source": [
        "[Google Colab](https://colab.research.google.com/notebooks/basic_features_overview.ipynb) notebooks (built on top of [Jupyter Notebook](https://jupyter.org/)) are a type of Python computing environment designed to provide a well-formatted interactive document.\n",
        "\n",
        "These notebooks allow you to perform complex scientific computing or data analysis in Python and can be a powerful tool for prototyping, documentation, training and learning.\n",
        "\n",
        "Below is a quick introduction to working with Jupyter notebooks on Google Colab."
      ],
      "metadata": {
        "id": "Peix-m-UbQBf"
      }
    },
    {
      "cell_type": "markdown",
      "metadata": {
        "id": "Y1RSuGGJjNXA"
      },
      "source": [
        "### The Cell System"
      ]
    },
    {
      "cell_type": "markdown",
      "source": [
        "Unlike a Python text file or another document you may be familiar with, Jupyter notebooks are *modular*. They consist of small units called **cells** containing a small subset of the content in the notebook.\n",
        "\n",
        "In general, there are two types of cells:\n",
        "\n",
        "1. The **markdown cells** - simple text like you would see in any standard document. You are reading the content of a typical *markdown cell* right now.\n",
        "2. The **code cells** - executable Python code that displays outputs, assigns values to variables and defines and calls functions.\n",
        "\n",
        "Cells of different types can be interspersed throughout a document, allowing you to write executable code and associated commentary in a single, integrated document.\n",
        "\n",
        "The **code cells** are more relevant to us for this workshop, so we will concern ourselves with only that. Here is [a link about **markdown cells**](https://colab.research.google.com/notebooks/markdown_guide.ipynb#scrollTo=Lhfnlq1Surtk) if you want to learn more."
      ],
      "metadata": {
        "id": "dPUlMkaDvg2J"
      }
    },
    {
      "cell_type": "markdown",
      "source": [
        "### Adding, moving and deleting cells in your notebook\n"
      ],
      "metadata": {
        "id": "xJm9v5tk2g84"
      }
    },
    {
      "cell_type": "markdown",
      "source": [
        "\n",
        "Although you may not need to do this in this workshop, you can add a new cell to your Colab notebook.\n",
        "\n",
        "You can add new cells by using the **+ CODE** and **+ TEXT** buttons that show when you hover between cells. These buttons are also in the toolbar above the notebook where they can be used to add a cell below the currently selected cell.\n",
        "\n",
        "You can move a cell by selecting it and clicking **Cell Up** or **Cell Down** in the top toolbar.\n",
        "\n",
        "Consecutive cells can be selected by \"lasso selection\" by dragging from outside one cell and through the group.  Non-adjacent cells can be selected concurrently by clicking one and then holding down Ctrl while clicking another.  Similarly, using Shift instead of Ctrl will select all intermediate cells.\n",
        "\n",
        "To delete a cell, click on the bin symbol on the top right corner of the selected cell."
      ],
      "metadata": {
        "id": "qBQ13fus5V2-"
      }
    },
    {
      "cell_type": "markdown",
      "metadata": {
        "id": "7q4I0-71jNXE"
      },
      "source": [
        "### Code Cells"
      ]
    },
    {
      "cell_type": "markdown",
      "source": [
        "Code cells are where you write and run your Python code. These blocks are similar to individual scripts but have some additional functionality:\n",
        "\n",
        "1. All of the variables, functions, etc. are *shared among all of the cells in a single document* after they are run\n",
        "2. Cells can be run in *arbitrary order* as long as all of the dependencies (imports, variable definitions, etc.) have been satisfied\n",
        "3. Outputs can be visualized *directly within the notebook itself*\n",
        "\n",
        "Throughout this guide, you will have the opportunity to gain some hands-on experience working with these code cells. However, let's walk through some examples to help illustrate how these cells work. If you aren't familiar with Python yet, don't worry—the remainder of this guide will walk you through all of the basics of the language. For now, focus on how code cells are run and how information is being passed and stored.\n",
        "\n",
        "First, let's do the canonical introduction for any new programming language or environment:"
      ],
      "metadata": {
        "id": "shXnkmFvamp_"
      }
    },
    {
      "cell_type": "code",
      "execution_count": null,
      "metadata": {
        "id": "vgR4AcV-jNXF"
      },
      "outputs": [],
      "source": [
        "print('Hello, world!')"
      ]
    },
    {
      "cell_type": "markdown",
      "metadata": {
        "id": "2tUjEKZtjNXI"
      },
      "source": [
        "The cell above contains a basic Python `print()` statement, which prints out the string, `Hello, world!`.\n",
        "\n",
        "When you click in the cell to select it, you can execute the Python code in the cell contents in the following ways:\n",
        "\n",
        "* Click the **Play icon** in the left gutter of the cell;\n",
        "* Type **Cmd/Ctrl+Enter** to run the cell in place;\n",
        "* Type **Shift+Enter** to run the cell and move focus to the next cell (adding one if none exists); or\n",
        "* Type **Alt+Enter** to run the cell and insert a new code cell immediately below it.\n",
        "\n",
        "There are additional options for running some or all cells in the **Runtime** menu.\n",
        "\n",
        "Once you run this cell, you should notice two things:\n",
        "\n",
        "1. A bracketed number appears to the left of the code cell (e.g., `[1]`), indicating the order that you ran the cell in\n",
        "2. The statement that is normally printed to the terminal/console appears directly below the code cell\n",
        "\n",
        "Now, let's attempt a simple addition operation."
      ]
    },
    {
      "cell_type": "markdown",
      "source": [
        "### Basic Python operations"
      ],
      "metadata": {
        "id": "wyyjqraoIdxY"
      }
    },
    {
      "cell_type": "markdown",
      "source": [
        "#### Simple operations"
      ],
      "metadata": {
        "id": "KmZ1aFWLQ8-P"
      }
    },
    {
      "cell_type": "code",
      "execution_count": null,
      "metadata": {
        "id": "6EccIjqDjNXI"
      },
      "outputs": [],
      "source": [
        "# Simple addition operation\n",
        "1 + 2"
      ]
    },
    {
      "cell_type": "markdown",
      "metadata": {
        "id": "TbLId5zKjNXJ"
      },
      "source": [
        "You may observe that you can use `#` indicate the lines that should not be executed (e.g. comment lines) in the code cell.\n",
        "\n",
        "After you run the cell above, you should notice that a different type of output is presented: this time, the output is labeled *just like the input*. Code cells will capture the value of *the last operation* if it isn't stored somewhere else. This value is **separate** from any outputs when you use functions like `print()`! For example, let's try to combine some addition and print operations:"
      ]
    },
    {
      "cell_type": "code",
      "execution_count": null,
      "metadata": {
        "id": "mmYNViwwjNXK"
      },
      "outputs": [],
      "source": [
        "# Simple addition operation\n",
        "1 + 2\n",
        "\n",
        "# Print operation\n",
        "print(2 + 3)\n",
        "\n",
        "# Simple addition operation\n",
        "10 - 3"
      ]
    },
    {
      "cell_type": "markdown",
      "metadata": {
        "id": "ce-3yzgojNXK"
      },
      "source": [
        "In this case, the notebook presents *two* outputs:\n",
        "\n",
        "1. The terminal output from the `print()` statement\n",
        "2. The output of the last operation"
      ]
    },
    {
      "cell_type": "markdown",
      "source": [
        "#### Python variables"
      ],
      "metadata": {
        "id": "oIdSkIUzKycn"
      }
    },
    {
      "cell_type": "markdown",
      "source": [
        "Specifically, we lose the output of `1 + 2` because the following `3 + 4` operation overwrites it. If you want to capture the values of multiple operations, we will use a *variable*. Variables are essentially named containers where we can stores values for later use. If a value is not assigned to a variable, it will generally be  inaccessible once you move on to the next operation. In Colab notebooks, once you have initialized a variable, it is accessible from *any cell* in the notebook."
      ],
      "metadata": {
        "id": "QxmQebPJKzs0"
      }
    },
    {
      "cell_type": "code",
      "execution_count": null,
      "metadata": {
        "id": "v8BQ15cJjNXK"
      },
      "outputs": [],
      "source": [
        "# Let's use variables to store two addition operations\n",
        "a = 1 + 2\n",
        "b = 3 + 4\n",
        "\n",
        "# We can use the variables within a code cell\n",
        "a + b"
      ]
    },
    {
      "cell_type": "code",
      "execution_count": null,
      "metadata": {
        "id": "hgovGxhwjNXL"
      },
      "outputs": [],
      "source": [
        "# The variables are accessible after they are run\n",
        "a + b"
      ]
    },
    {
      "cell_type": "markdown",
      "metadata": {
        "id": "bHMugFbxjNXL"
      },
      "source": [
        "Because you can access variables from any cell once you initialize them, it's essential to track what cells you ran and what order you ran them in. For example, the cells below are in intentionally reversed order (the variable declaration comes before). Running the cells in the provided order will result in an error:"
      ]
    },
    {
      "cell_type": "code",
      "execution_count": null,
      "metadata": {
        "id": "PRI_AC_jjNXM"
      },
      "outputs": [],
      "source": [
        "# When first run this should raise an error\n",
        "# because my_variable doesn't yet exist\n",
        "print(my_variable)"
      ]
    },
    {
      "cell_type": "code",
      "execution_count": null,
      "metadata": {
        "id": "wce_UsAcjNXM"
      },
      "outputs": [],
      "source": [
        "# Declaring my_variable\n",
        "my_variable = 5"
      ]
    },
    {
      "cell_type": "markdown",
      "source": [
        "#### Python `input` function"
      ],
      "metadata": {
        "id": "bPDz-pRsNbed"
      }
    },
    {
      "cell_type": "markdown",
      "source": [
        "Instead of assigning values to your variables, you may want the user to supply the value(s) they wish to process."
      ],
      "metadata": {
        "id": "-ivttsMoN7t8"
      }
    },
    {
      "cell_type": "code",
      "source": [
        "a = input(\"Enter the value of 'a': \")\n",
        "b = input(\"Enter the value of 'b': \")\n",
        "\n",
        "print(\"You entered: a =\", a, \", b =\", b)"
      ],
      "metadata": {
        "id": "3puS09SeN83b"
      },
      "execution_count": null,
      "outputs": []
    },
    {
      "cell_type": "markdown",
      "source": [
        "We should be able to perform other operations on the values in `a` and `b`, shouldn't we? 🤔"
      ],
      "metadata": {
        "id": "AJ_QdRUUTI5r"
      }
    },
    {
      "cell_type": "code",
      "source": [
        "print(a+b)"
      ],
      "metadata": {
        "id": "a18PA-eWTjdi"
      },
      "execution_count": null,
      "outputs": []
    },
    {
      "cell_type": "markdown",
      "source": [
        "😯 Oh oh...in Python, the '`+`' operator is context sensitive i.e. its output will depend on 'type' of the values given to it.\n",
        "\n",
        "If they are numbers (e.g. 2, 4) they will be added (i.e. **6**).\n",
        "\n",
        "But if they are strings of characters ('2' and '4'), which is what the `input` function returns, they will be concatenated (i.e. **24**)\n",
        "\n",
        "So let's try converting the values to numbers before adding...\n"
      ],
      "metadata": {
        "id": "zaGvvwyZTqX4"
      }
    },
    {
      "cell_type": "code",
      "source": [
        "print(int(a)+int(b))"
      ],
      "metadata": {
        "id": "ClanyMnDVe7z"
      },
      "execution_count": null,
      "outputs": []
    },
    {
      "cell_type": "markdown",
      "source": [
        "Another way to do that is to convert the numbers from the `input` function before assigning them to the variables\n",
        "\n",
        "\n",
        "\n",
        "```python\n",
        "a = int(input(\"Enter the value of 'a': \"))\n",
        "b = int(input(\"Enter the value of 'a': \"))\n",
        "\n",
        "print(\"You entered: a =\", a, \", b =\", b)\n",
        "```\n",
        "\n",
        "You can insert a code cell below, copy and paste he code above to see the output.\n"
      ],
      "metadata": {
        "id": "t7nVMhJjWLIR"
      }
    },
    {
      "cell_type": "markdown",
      "source": [
        "#### Control flow: `for` statement"
      ],
      "metadata": {
        "id": "458qfJ7FXo-D"
      }
    },
    {
      "cell_type": "markdown",
      "source": [
        "The code below lists all the numbers from 1 to 10:\n",
        "\n"
      ],
      "metadata": {
        "id": "X8HbmL0NX54b"
      }
    },
    {
      "cell_type": "code",
      "source": [
        "for i in range(10): print(i+1)"
      ],
      "metadata": {
        "id": "o0yFQyGsX4KP"
      },
      "execution_count": null,
      "outputs": []
    },
    {
      "cell_type": "markdown",
      "source": [
        "#### Control flow: `if` statement"
      ],
      "metadata": {
        "id": "xUshV6sJYdhX"
      }
    },
    {
      "cell_type": "markdown",
      "source": [
        "Modify the code above to list only even numbers between 1 and 10 inclusive:"
      ],
      "metadata": {
        "id": "B-FsRGlOYglV"
      }
    },
    {
      "cell_type": "code",
      "source": [
        "for i in range(10):\n",
        "  if (i+1)%2 ==0: print(i+1)"
      ],
      "metadata": {
        "id": "fMnLqEqvYhVG"
      },
      "execution_count": null,
      "outputs": []
    },
    {
      "cell_type": "markdown",
      "metadata": {
        "id": "oxp1slhFjNXN"
      },
      "source": [
        "### Conclusion and references:"
      ]
    },
    {
      "cell_type": "markdown",
      "source": [
        "\n",
        "This module introduced the basic functionality and structure of a Colab notebook. While many more advanced tools are available, understanding the two primary cell types of a Colab notebook is essential for further learning and application.\n",
        "\n",
        "Though outside the scope of this workshop, below are some additional resources on how to use Colab notebooks.\n",
        "\n",
        "**Additional resources:**\n",
        "\n",
        "1. [Markdown Guide](https://colab.research.google.com/notebooks/markdown_guide.ipynb#scrollTo=Lhfnlq1Surtk)\n",
        "\n",
        "2. [Overview of Colaboratory Features](https://colab.research.google.com/notebooks/basic_features_overview.ipynb#scrollTo=GOwlZRXEQSHZ)\n",
        "\n",
        "3. [Introduction to Jupyter Notebooks by Anthony Agbay](https://colab.research.google.com/github/anthony-agbay/introduction-to-python/blob/main/modules/introduction-to-jupyter-notebooks/introduction-to-jupyter-notebooks.ipynb#scrollTo=oxp1slhFjNXN)\n",
        "\n",
        "4. [Making the most of your colab subscription](https://colab.research.google.com/?utm_source=scs-index#scrollTo=qB3bdLe8jkAa) - For high-performance computing with GPUs\n",
        "\n",
        "5. [Machine learning crash course with Colab](https://developers.google.com/machine-learning/crash-course/)\n"
      ],
      "metadata": {
        "id": "e1kocIlvaRmW"
      }
    },
    {
      "cell_type": "markdown",
      "source": [
        "### Next step"
      ],
      "metadata": {
        "id": "16AZQA8fFbIS"
      }
    },
    {
      "cell_type": "markdown",
      "source": [
        "If you feel brave enough😎, follow [this link](https://walkintheforest.com/Content/Introduction+to+Python/%F0%9F%90%8D+Introduction+to+Python)  to start the first task."
      ],
      "metadata": {
        "id": "FfDXZZsZbA7S"
      }
    }
  ],
  "metadata": {
    "kernelspec": {
      "display_name": "Python 3",
      "language": "python",
      "name": "python3"
    },
    "language_info": {
      "codemirror_mode": {
        "name": "ipython",
        "version": 3
      },
      "file_extension": ".py",
      "mimetype": "text/x-python",
      "name": "python",
      "nbconvert_exporter": "python",
      "pygments_lexer": "ipython3",
      "version": "3.8.5"
    },
    "colab": {
      "provenance": [],
      "collapsed_sections": [
        "_BEy2Q4ujNW7",
        "Y1RSuGGJjNXA",
        "xJm9v5tk2g84",
        "7q4I0-71jNXE",
        "wyyjqraoIdxY",
        "KmZ1aFWLQ8-P",
        "oIdSkIUzKycn",
        "oxp1slhFjNXN",
        "16AZQA8fFbIS"
      ],
      "include_colab_link": true
    }
  },
  "nbformat": 4,
  "nbformat_minor": 0
}