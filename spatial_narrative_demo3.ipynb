{
  "nbformat": 4,
  "nbformat_minor": 0,
  "metadata": {
    "colab": {
      "provenance": [],
      "authorship_tag": "ABX9TyOxr7OyHSu1+18d5pMgMUOA",
      "include_colab_link": true
    },
    "kernelspec": {
      "name": "python3",
      "display_name": "Python 3"
    },
    "language_info": {
      "name": "python"
    }
  },
  "cells": [
    {
      "cell_type": "markdown",
      "metadata": {
        "id": "view-in-github",
        "colab_type": "text"
      },
      "source": [
        "<a href=\"https://colab.research.google.com/github/SpaceTimeNarratives/demo/blob/main/spatial_narrative_demo3.ipynb\" target=\"_parent\"><img src=\"https://colab.research.google.com/assets/colab-badge.svg\" alt=\"Open In Colab\"/></a>"
      ]
    },
    {
      "cell_type": "markdown",
      "source": [
        "# **Spatial Narratives - Demo**\n",
        "---\n",
        "\n"
      ],
      "metadata": {
        "id": "NHEeLwASZXGt"
      }
    },
    {
      "cell_type": "markdown",
      "source": [
        "## Setting up..."
      ],
      "metadata": {
        "id": "lAhPX0VvgPh0"
      }
    },
    {
      "cell_type": "code",
      "execution_count": null,
      "metadata": {
        "id": "UrDTq2JnYYgT"
      },
      "outputs": [],
      "source": [
        "!git clone https://github.com/SpaceTimeNarratives/demo.git"
      ]
    },
    {
      "cell_type": "code",
      "source": [
        "!pip uninstall -y spacy"
      ],
      "metadata": {
        "id": "8TW84RBwe3pI"
      },
      "execution_count": null,
      "outputs": []
    },
    {
      "cell_type": "code",
      "source": [
        "!pip -q install -r demo/requirements.txt"
      ],
      "metadata": {
        "id": "MqG1oZBje4XK"
      },
      "execution_count": null,
      "outputs": []
    },
    {
      "cell_type": "code",
      "source": [
        "%run demo/functions.py"
      ],
      "metadata": {
        "id": "9SIE_y5Lee_b"
      },
      "execution_count": null,
      "outputs": []
    },
    {
      "cell_type": "markdown",
      "source": [
        "## Importing `spaCy`\n",
        "We need to import the `spaCy` NLP pipeline and load the small version of the English model `en_core_web_sm` for tokenization, tagging, parsing and named entity recognition."
      ],
      "metadata": {
        "id": "N-0WiGykCAbl"
      }
    },
    {
      "cell_type": "code",
      "source": [
        "import spacy\n",
        "from lxml import etree\n",
        "import matplotlib.pyplot as plt\n",
        "from collections import Counter\n",
        "import numpy as np"
      ],
      "metadata": {
        "id": "D6ibT1zHCA38"
      },
      "execution_count": null,
      "outputs": []
    },
    {
      "cell_type": "code",
      "source": [
        "nlp = spacy.load(\"en_core_web_sm\")"
      ],
      "metadata": {
        "id": "l3NcDtwvxRVD"
      },
      "execution_count": null,
      "outputs": []
    },
    {
      "cell_type": "markdown",
      "source": [
        "## Extracting and Analysing Placenames"
      ],
      "metadata": {
        "id": "AydPRGCb6bBr"
      }
    },
    {
      "cell_type": "code",
      "source": [
        "#@title ### Select file {run: \"auto\"}\n",
        "\n",
        "#@markdown You can select a file from `gold_standard` folder.\n",
        "Filename = \"Ruskin_cqp_55.xml\" #@param [\"Anon_cqp_66.xml\", \"Brown_cqp_10.xml\", \"Clarke_cqp_63.xml\", \"Cockin_cqp_19.xml\", \"Coleridge_cqp_33.xml\", \"Defoe_cqp_4.xml\", \"Garnett_cqp_62.xml\", \"Gray_cqp_13.xml\", \"Keats_cqp_44.xml\", \"Lt.Hammond._cqp_2.xml\", \"Otley__cqp_49.xml\", \"Pennant_cqp_12.xml\", \"Pennant_cqp_15.xml\", \"Phillips_cqp_38.xml\", \"Rix_cqp_78.xml\", \"Ruskin_cqp_55.xml\", \"Rutland_cqp_42.xml\", \"Shaw_cqp_24.xml\", \"Smith_cqp_5.xml\", \"Smith_cqp_6.xml\", \"Smith_cqp_7.xml\", \"Sullivan_cqp_20.xml\", \"Wakefield_cqp_37.xml\", \"Wesley_cqp_9.xml\", \"West_cqp_17.xml\", \"Wordsworth_cqp_47.xml\", \"Wordsworth_cqp_58.xml\", \"Young_cqp_11.xml\"]\n",
        "\n",
        "# spacy_processed = nlp(re.sub('<[^<]+>', \"\", open(f'gold_standard/{Filename}').read()))\n",
        "spacy_processed = nlp(str(etree.tostring(etree.parse(f'gold_standard/{Filename}'\n",
        "                  ), encoding='utf8', method='text')))\n",
        "ld_place_names = [name.strip() for name in open('LD_placenames.txt').readlines()]\n",
        "spacy_entities = extract_entities(spacy_processed.text, ld_place_names)\n",
        "\n",
        "names, counts = zip(*Counter(plname for _,(plname,_) in spacy_entities.items()).most_common(25))\n",
        "plt.figure(figsize=(20,8))\n",
        "\n",
        "bar_labels = ['red', 'blue', 'green', 'orange', 'purple']*5\n",
        "bar_colors = [f'tab:{col}' for col in bar_labels]\n",
        "plt.bar(names, counts, label=bar_labels, color=bar_colors)\n",
        "plt.ylabel('Mentions')\n",
        "plt.title(f'Place name mentions in {Filename}')\n",
        "plt.xticks(names, names, rotation=45)\n",
        "plt.tick_params(axis='both', labelsize=14)\n",
        "plt.show()"
      ],
      "metadata": {
        "id": "ff1v6F6QfV6o"
      },
      "execution_count": null,
      "outputs": []
    },
    {
      "cell_type": "markdown",
      "source": [
        "### Visualizing the place names"
      ],
      "metadata": {
        "id": "0E20xQ949OVa"
      }
    },
    {
      "cell_type": "code",
      "source": [
        "visualize(get_tagged_list(spacy_processed.text, spacy_entities))"
      ],
      "metadata": {
        "id": "arHB4xCw9Ou5"
      },
      "execution_count": null,
      "outputs": []
    }
  ]
}
